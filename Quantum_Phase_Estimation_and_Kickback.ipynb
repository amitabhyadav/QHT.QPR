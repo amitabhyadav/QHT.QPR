{
 "cells": [
  {
   "cell_type": "markdown",
   "metadata": {},
   "source": [
    "## Quantum Phase Estimation and Phase Kickback\n",
    "\n",
    "We have some function that has to be queried via an Oracle :\n",
    "\n",
    "$|x\\rangle|q\\rangle \\longrightarrow |x\\rangle|q \\oplus f(x)\\rangle$\n",
    "\n",
    "$|x\\rangle$ is input state, and $|q\\rangle$ is the ancilla register."
   ]
  },
  {
   "cell_type": "code",
   "execution_count": null,
   "metadata": {},
   "outputs": [],
   "source": []
  }
 ],
 "metadata": {
  "kernelspec": {
   "display_name": "Python 3",
   "language": "python",
   "name": "python3"
  },
  "language_info": {
   "codemirror_mode": {
    "name": "ipython",
    "version": 3
   },
   "file_extension": ".py",
   "mimetype": "text/x-python",
   "name": "python",
   "nbconvert_exporter": "python",
   "pygments_lexer": "ipython3",
   "version": "3.7.5"
  }
 },
 "nbformat": 4,
 "nbformat_minor": 2
}
