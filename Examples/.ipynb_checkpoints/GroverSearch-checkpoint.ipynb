{
 "cells": [
  {
   "cell_type": "code",
   "execution_count": 1,
   "metadata": {},
   "outputs": [
    {
     "ename": "ModuleNotFoundError",
     "evalue": "No module named 'qiskit'",
     "output_type": "error",
     "traceback": [
      "\u001b[0;31m---------------------------------------------------------------------------\u001b[0m",
      "\u001b[0;31mModuleNotFoundError\u001b[0m                       Traceback (most recent call last)",
      "\u001b[0;32m<ipython-input-1-8e22ecdfb927>\u001b[0m in \u001b[0;36m<module>\u001b[0;34m\u001b[0m\n\u001b[1;32m      1\u001b[0m \u001b[0;31m# Import necessary libraries\u001b[0m\u001b[0;34m\u001b[0m\u001b[0;34m\u001b[0m\u001b[0;34m\u001b[0m\u001b[0m\n\u001b[0;32m----> 2\u001b[0;31m \u001b[0;32mimport\u001b[0m \u001b[0mqiskit\u001b[0m\u001b[0;34m\u001b[0m\u001b[0;34m\u001b[0m\u001b[0m\n\u001b[0m\u001b[1;32m      3\u001b[0m \u001b[0;34m\u001b[0m\u001b[0m\n\u001b[1;32m      4\u001b[0m \u001b[0;31m# Set up your Quantum Register (number of qubits) and,\u001b[0m\u001b[0;34m\u001b[0m\u001b[0;34m\u001b[0m\u001b[0;34m\u001b[0m\u001b[0m\n\u001b[1;32m      5\u001b[0m \u001b[0;31m# Classcial Register (Number of measurement registers to store the result)\u001b[0m\u001b[0;34m\u001b[0m\u001b[0;34m\u001b[0m\u001b[0;34m\u001b[0m\u001b[0m\n",
      "\u001b[0;31mModuleNotFoundError\u001b[0m: No module named 'qiskit'"
     ]
    }
   ],
   "source": [
    "# Import necessary libraries\n",
    "import qiskit\n",
    "\n",
    "# Set up your Quantum Register (number of qubits) and,\n",
    "# Classcial Register (Number of measurement registers to store the result)\n",
    "q = qiskit.QuantumRegister(3)\n",
    "c = qiskit.ClassicalRegister(3)\n",
    "program = qiskit.QuantumCircuit(q, c)\n",
    "\n",
    "# Quantum Circuit Description\n",
    "program.x(q[2])\n",
    "program.h(q[0])\n",
    "program.h(q[1])\n",
    "program.h(q[2])\n",
    "program.ccx(q[0],q[1],q[2])\n",
    "program.h(q[0])\n",
    "program.h(q[1])\n",
    "program.x(q[0])\n",
    "program.x(q[1])\n",
    "program.cz(q[0],q[1])\n",
    "program.x(q[0])\n",
    "program.x(q[1])\n",
    "program.h(q[0])\n",
    "program.h(q[1])\n",
    "\n",
    "program.measure(q,c)\n",
    "\n",
    "# Simulate the Quantum Circuit to execute on the Local simulator\n",
    "job = qiskit.execute( program, qiskit.BasicAer.get_backend('qasm_simulator') )\n",
    "\n",
    "# View the result\n",
    "program.draw(output='mpl')#, filename='my_circuit.png')\n",
    "print( job.result().get_counts() )\n",
    "# Output: {'1': 1024}\n",
    "# This means that |1> state was measured 1024 times.\n",
    "\n",
    "# The following code uses the least busy quantum computer device available on the IBM Cloud.\n",
    "qiskit.IBMQ.load_accounts()\n",
    "backend = qiskit.providers.ibmq.least_busy(qiskit.IBMQ.backends(simulator=False))\n",
    "print(\"Using the least busy device:\",backend.name())\n",
    "job = qiskit.execute( program, backend )\n",
    "print( job.result().get_counts() )\n",
    "\n",
    "# Output:\n",
    "# We'll use the least busy device: ibmqx2\n",
    "# {'1': 1004, '0': 20}{'1': 1024}\n",
    "# This means that |1> state was measured 1004 times and,\n",
    "# |0> state was measured 20 times.\n",
    "# Note that: The |0> state gets measured due to noise present in the quantum device,\n",
    "# therefore, to reduce the errors due to noise in computation, \n",
    "# a total of 1024 iterations are performed of the same program."
   ]
  },
  {
   "cell_type": "code",
   "execution_count": null,
   "metadata": {},
   "outputs": [],
   "source": []
  }
 ],
 "metadata": {
  "kernelspec": {
   "display_name": "Python 3",
   "language": "python",
   "name": "python3"
  },
  "language_info": {
   "codemirror_mode": {
    "name": "ipython",
    "version": 3
   },
   "file_extension": ".py",
   "mimetype": "text/x-python",
   "name": "python",
   "nbconvert_exporter": "python",
   "pygments_lexer": "ipython3",
   "version": "3.7.4"
  }
 },
 "nbformat": 4,
 "nbformat_minor": 2
}
