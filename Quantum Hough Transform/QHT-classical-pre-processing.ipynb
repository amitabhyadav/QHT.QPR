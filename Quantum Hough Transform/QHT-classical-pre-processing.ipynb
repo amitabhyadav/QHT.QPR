{
 "cells": [
  {
   "cell_type": "markdown",
   "metadata": {},
   "source": [
    "# Classical Data Preprocessing and Conformal Transform\n",
    "\n",
    "In this notebook, we accept 3D hits data from the TrackML dataset and treat using the Classical Hough Transform. The initial code of the notebook can be adapted to use with Quantum Hough Transform algorithm.\n",
    "\n",
    "Note: Reqires installation of trackml-library. Can use the following in the Anaconda environment.\n",
    "\n",
    "conda install git pip\n",
    "pip install git+git://github.com/scrappy/scrappy@master"
   ]
  },
  {
   "cell_type": "markdown",
   "metadata": {},
   "source": [
    "The following is the code for classical Hough Transform for single event."
   ]
  },
  {
   "cell_type": "code",
   "execution_count": 87,
   "metadata": {},
   "outputs": [],
   "source": [
    "# import necessary libraries\n",
    "%matplotlib inline\n",
    "import numpy as np\n",
    "import pandas as pd\n",
    "import os\n",
    "\n",
    "from trackml.dataset import load_event, load_dataset\n",
    "from trackml.utils import add_position_quantities, add_momentum_quantities, decode_particle_id\n",
    "from trackml.randomize import shuffle_hits\n",
    "from trackml.score import score_event\n",
    "\n",
    "import matplotlib.pyplot as plt\n",
    "#from mpl_toolkits.mplot3d import Axes3D\n",
    "#import seaborn as sns\n",
    "#%matplotlib inline"
   ]
  },
  {
   "cell_type": "code",
   "execution_count": 94,
   "metadata": {},
   "outputs": [],
   "source": [
    "hits, cells, particles, truth = load_event('./trackmldataset/event000001000')\n",
    "#print(hits)\n",
    "\n",
    "def cartesian_to_cylindrical(x, y, z):\n",
    "    \n",
    "    r = np.sqrt(x**2 + y**2)\n",
    "    phi = np.arctan2(y, x)\n",
    "    z = z\n",
    "    return r, phi, z\n",
    "\n",
    "\n",
    "def create_hough_matrix(hits):\n",
    "    \n",
    "    hough_matrix = hits[['hit_id', 'x', 'y', 'z']].copy()\n",
    "    hough_matrix.columns = ['HitID', 'X', 'Y', 'Z']\n",
    "    \n",
    "    r, phi, z = cartesian_to_cylindrical(hough_matrix['X'].values, \n",
    "                                         hough_matrix['Y'].values, \n",
    "                                         hough_matrix['Z'].values)\n",
    "\n",
    "    hough_matrix['R'] = r\n",
    "    hough_matrix['Phi'] = phi\n",
    "    \n",
    "    # Pandas dataframe values to array\n",
    "    trx1 = hough_matrix['R'].values\n",
    "    try1 = hough_matrix['Phi'].values \n",
    "    trx2 = hough_matrix['X'].values\n",
    "    try2 = hough_matrix['Y'].values \n",
    "    \n",
    "    #plot to check mapping\n",
    "    plt.scatter(hough_matrix['R'].values,hough_matrix['Phi'].values)\n",
    "    #plt.scatter(trx1[0:10],try1[0:10])\n",
    "    #plt.scatter([trx1[0],trx1[2],trx1[3],trx1[4],trx1[6],trx1[8],trx1[9]],\n",
    "                #[try1[0],try1[2],try1[3],try1[4],try1[6],try1[8],try1[9]])\n",
    "    plt.xlabel('R')\n",
    "    plt.ylabel('Phi')\n",
    "    plt.show()\n",
    "    plt.scatter(hough_matrix['X'].values,hough_matrix['Y'].values)\n",
    "    #plt.scatter(trx2[0:10],try2[0:10])\n",
    "    #plt.scatter([trx2[0],trx2[2],trx2[3],trx2[4],trx2[6],trx2[8],trx2[9]],\n",
    "                #[try2[0],try2[2],try2[3],try2[4],try2[6],try2[8],try2[9]])\n",
    "    plt.xlabel('X')\n",
    "    plt.ylabel('Y')\n",
    "    plt.show()\n",
    "    \n",
    "    #return the hough matrix --- basically the hits matrix with Phi and R values appended.\n",
    "    return hough_matrix"
   ]
  },
  {
   "cell_type": "code",
   "execution_count": 95,
   "metadata": {},
   "outputs": [
    {
     "data": {
      "image/png": "[encoded data removed]",
      "text/plain": [
       "<Figure size 432x288 with 1 Axes>"
      ]
     },
     "metadata": {
      "needs_background": "light"
     },
     "output_type": "display_data"
    },
    {
     "data": {
      "image/png": "[encoded data removed]",
      "text/plain": [
       "<Figure size 432x288 with 1 Axes>"
      ]
     },
     "metadata": {
      "needs_background": "light"
     },
     "output_type": "display_data"
    },
    {
     "name": "stdout",
     "output_type": "stream",
     "text": [
      "CPU times: user 3.94 s, sys: 49.9 ms, total: 3.99 s\n",
      "Wall time: 1.31 s\n"
     ]
    }
   ],
   "source": [
    "%%time \n",
    "hits_updated = create_hough_matrix(hits)"
   ]
  },
  {
   "cell_type": "markdown",
   "metadata": {},
   "source": []
  },
  {
   "cell_type": "code",
   "execution_count": null,
   "metadata": {},
   "outputs": [],
   "source": []
  }
 ],
 "metadata": {
  "kernelspec": {
   "display_name": "Python 3",
   "language": "python",
   "name": "python3"
  },
  "language_info": {
   "codemirror_mode": {
    "name": "ipython",
    "version": 3
   },
   "file_extension": ".py",
   "mimetype": "text/x-python",
   "name": "python",
   "nbconvert_exporter": "python",
   "pygments_lexer": "ipython3",
   "version": "3.7.5"
  }
 },
 "nbformat": 4,
 "nbformat_minor": 2
}
