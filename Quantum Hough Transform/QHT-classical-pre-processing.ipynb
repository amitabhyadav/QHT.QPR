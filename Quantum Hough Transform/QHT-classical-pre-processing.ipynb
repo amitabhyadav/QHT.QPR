{
 "cells": [
  {
   "cell_type": "markdown",
   "metadata": {},
   "source": [
    "# Classical Data Preprocessing and Conformal Transform\n",
    "\n",
    "In this notebook, we accept 3D hits data from the TrackML dataset and treat using the Classical Hough Transform. The initial code of the notebook can be adapted to use with Quantum Hough Transform algorithm.\n",
    "\n",
    "Note: Reqires installation of trackml-library. Can use the following in the Anaconda environment.\n",
    "\n",
    "conda install git pip\n",
    "pip install git+git://github.com/scrappy/scrappy@master"
   ]
  },
  {
   "cell_type": "markdown",
   "metadata": {},
   "source": [
    "## Classical Hough Transform for single event from TrackML Dataset"
   ]
  },
  {
   "cell_type": "code",
   "execution_count": 3,
   "metadata": {},
   "outputs": [],
   "source": [
    "# import necessary libraries\n",
    "%matplotlib inline\n",
    "import numpy as np\n",
    "import pandas as pd\n",
    "import os\n",
    "import sys\n",
    "\n",
    "from trackml.dataset import load_event, load_dataset\n",
    "from trackml.utils import add_position_quantities, add_momentum_quantities, decode_particle_id\n",
    "from trackml.randomize import shuffle_hits\n",
    "from trackml.score import score_event\n",
    "\n",
    "import matplotlib.pyplot as plt\n",
    "#from mpl_toolkits.mplot3d import Axes3D\n",
    "#import seaborn as sns\n",
    "#%matplotlib inline"
   ]
  },
  {
   "cell_type": "code",
   "execution_count": 4,
   "metadata": {},
   "outputs": [],
   "source": [
    "hits, cells, particles, truth = load_event('../TrackML_100_events_dataset/event000001000')\n",
    "#print(hits)\n",
    "\n",
    "def cartesian_to_cylindrical(x, y, z):\n",
    "    \n",
    "    r = np.sqrt(x**2 + y**2)\n",
    "    phi = np.arctan2(y, x)\n",
    "    z = z\n",
    "    return r, phi, z\n",
    "\n",
    "\n",
    "def create_hough_matrix(hits):\n",
    "    \n",
    "    hough_matrix = hits[['hit_id', 'x', 'y', 'z']].copy()\n",
    "    hough_matrix.columns = ['HitID', 'X', 'Y', 'Z']\n",
    "    \n",
    "    r, phi, z = cartesian_to_cylindrical(hough_matrix['X'].values, \n",
    "                                         hough_matrix['Y'].values, \n",
    "                                         hough_matrix['Z'].values)\n",
    "\n",
    "    hough_matrix['R'] = r\n",
    "    hough_matrix['Phi'] = phi\n",
    "    \n",
    "    # Pandas dataframe values to array\n",
    "    trx1 = hough_matrix['R'].values\n",
    "    try1 = hough_matrix['Phi'].values \n",
    "    trx2 = hough_matrix['X'].values\n",
    "    try2 = hough_matrix['Y'].values \n",
    "    \n",
    "    #plot to check mapping\n",
    "    \n",
    "    plt.scatter(hough_matrix['X'].values,hough_matrix['Y'].values)\n",
    "    #plt.scatter(trx2[0:500],try2[0:500])\n",
    "    #plt.scatter([trx2[0],trx2[2],trx2[3],trx2[4],trx2[6],trx2[8],trx2[9]],\n",
    "    #            [try2[0],try2[2],try2[3],try2[4],try2[6],try2[8],try2[9]])\n",
    "    plt.xlabel('X')\n",
    "    plt.ylabel('Y')\n",
    "    plt.show()\n",
    "    \n",
    "    plt.scatter(hough_matrix['R'].values,hough_matrix['Phi'].values)\n",
    "    #plt.scatter(trx1[0:500],try1[0:500])\n",
    "    #plt.scatter([trx1[0],trx1[2],trx1[3],trx1[4],trx1[6],trx1[8],trx1[9]],\n",
    "    #            [try1[0],try1[2],try1[3],try1[4],try1[6],try1[8],try1[9]])\n",
    "    plt.xlabel('R')\n",
    "    plt.ylabel('Phi')\n",
    "    plt.show()\n",
    "    \n",
    "    #return the hough matrix --- basically the hits matrix with Phi and R values appended.\n",
    "    return hough_matrix"
   ]
  },
  {
   "cell_type": "code",
   "execution_count": 5,
   "metadata": {},
   "outputs": [
    {
     "data": {
      "image/png": "[encoded data removed]",
      "text/plain": [
       "<Figure size 432x288 with 1 Axes>"
      ]
     },
     "metadata": {
      "needs_background": "light"
     },
     "output_type": "display_data"
    },
    {
     "data": {
      "image/png": "[encoded data removed]",
      "text/plain": [
       "<Figure size 432x288 with 1 Axes>"
      ]
     },
     "metadata": {
      "needs_background": "light"
     },
     "output_type": "display_data"
    },
    {
     "name": "stdout",
     "output_type": "stream",
     "text": [
      "CPU times: user 3.84 s, sys: 95.2 ms, total: 3.93 s\n",
      "Wall time: 1.4 s\n"
     ]
    }
   ],
   "source": [
    "%%time \n",
    "hits_updated = create_hough_matrix(hits)"
   ]
  },
  {
   "cell_type": "code",
   "execution_count": 17,
   "metadata": {},
   "outputs": [
    {
     "data": {
      "image/png": "[encoded data removed]",
      "text/plain": [
       "<Figure size 432x288 with 1 Axes>"
      ]
     },
     "metadata": {
      "needs_background": "light"
     },
     "output_type": "display_data"
    }
   ],
   "source": [
    "#######################################################\n",
    "## Plotting the discretized circular tracks\n",
    "#######################################################\n",
    "\n",
    "#x = np.linspace(-1000,1000,10000) # 100 linearly spaced numbers\n",
    "x = []\n",
    "for i in range(2001):\n",
    "    x.append(i)\n",
    "y=[]\n",
    "for i in range(2001):\n",
    "    y.append(np.sqrt(np.absolute(-(x[i]-1000)**2 + 1000000)))\n",
    "#y = np.sqrt(-x**2 + 36) # computing the values of sin(x)/x\n",
    "#plt.scatter(x,y) # sin(x)/x\n",
    "plt.scatter([x[0],x[250],x[500],x[750],x[1000]],[y[0],y[250],y[500],y[750],y[1000]])\n",
    "#pylab.plot(x,y,'co',label=\"cyan dots\") # same function with cyan dots\n",
    "#pylab.plot(x,2*y,x,3*y,label=\"other plot\") # 2*sin(x)/x and 3*sin(x)/x\n",
    "plt.show() # show the plot"
   ]
  },
  {
   "cell_type": "markdown",
   "metadata": {},
   "source": [
    "## Track Forming and Visualization 5 layer tracks + Conformal Transform\n",
    "\n",
    "The following is a toy model detector generating circular tracks in 2D, and detected accross 5 layers."
   ]
  },
  {
   "cell_type": "code",
   "execution_count": 37,
   "metadata": {},
   "outputs": [
    {
     "data": {
      "image/png": "[encoded data removed]",
      "text/plain": [
       "<Figure size 800x800 with 1 Axes>"
      ]
     },
     "metadata": {
      "needs_background": "light"
     },
     "output_type": "display_data"
    }
   ],
   "source": [
    "##############################################################################\n",
    "### Function: Necessary Imports\n",
    "##############################################################################\n",
    "\n",
    "import numpy as np\n",
    "from matplotlib.pyplot import figure\n",
    "\n",
    "##############################################################################\n",
    "### Function: Generate 2D tracks for a toy model detector with 5 layers\n",
    "##############################################################################\n",
    "\n",
    "y = []\n",
    "for i in range(1001):\n",
    "    y.append(i)\n",
    "    \n",
    "c = []\n",
    "for i in range(1001):\n",
    "    c.append(i)\n",
    "    \n",
    "def create_detector():\n",
    "    detect_line_0 = []  \n",
    "    detect_line_250 = []  \n",
    "    detect_line_500 = []  \n",
    "    detect_line_750 = [] \n",
    "    detect_line_1000 = [] \n",
    "    \n",
    "    for i in range(1001):\n",
    "        detect_line_0.append(0)\n",
    "        detect_line_250.append(250)\n",
    "        detect_line_500.append(500)\n",
    "        detect_line_750.append(750)\n",
    "        detect_line_1000.append(1000)\n",
    "        \n",
    "    #Setting plot figure size\n",
    "    figure(num=None, figsize=(10,10), dpi=80)\n",
    "    \n",
    "    ################# Plot Detector Grid Lines #################\n",
    "    #plt.subplot(121)    \n",
    "    plt.plot(y,detect_line_0,'--',color='gray',linewidth=0.3)\n",
    "    plt.plot(y,detect_line_250,'--',color='gray',linewidth=0.3)\n",
    "    plt.plot(y,detect_line_500,'--',color='gray',linewidth=0.3)\n",
    "    plt.plot(y,detect_line_750,'--',color='gray',linewidth=0.3)\n",
    "    plt.plot(y,detect_line_1000,'--',color='gray',linewidth=0.3)\n",
    "    #############################################################\n",
    "\n",
    "def create_tracks():\n",
    "    #initialize empty arrays\n",
    "    x1,x2,x3,x4,x5 = [],[],[],[],[]\n",
    "    d1 = []\n",
    "    \n",
    "    #equation of circle, x**2 + y**2 = r**2\n",
    "    # x = sqrt((y-y_i)**2 + r**2)\n",
    "    for i in range(1001):\n",
    "        x1.append(np.sqrt(np.absolute(-(y[i]-800)**2 + 640000))) #equation of circle, x**2 + y**2 = r**2\n",
    "        x2.append(np.sqrt(np.absolute(-(y[i]-700)**2 + 490000)))\n",
    "        x3.append(np.sqrt(np.absolute(-(y[i]-600)**2 + 360000)))\n",
    "        x4.append(np.sqrt(np.absolute(-(y[i]-900)**2 + 810000)))\n",
    "        x5.append(np.sqrt(y[i]))\n",
    "        d1.append(np.sqrt(np.absolute(-(c[i]-550)**2 + 302500)))\n",
    "    \n",
    "    track_1 = [x1[0],x1[250],x1[500],x1[750],x1[1000]] #top circle\n",
    "    track_2 = [x2[0],x2[250],x2[500],x2[750],x2[1000]]\n",
    "    track_3 = [x3[0],x3[250],x3[500],x3[750],x3[1000]]\n",
    "    track_4 = [x4[0],x4[250],x4[500],x4[750],x4[1000]]\n",
    "    #track_5 = [x5[0],x5[250],x5[500],x5[750],x5[1000]] #parabola\n",
    "    track_6 = [d1[0],d1[250],d1[500],d1[750],d1[1000]] #right circle\n",
    "    layer_coordinates = [y[0],y[250],y[500],y[750],y[1000]]\n",
    "    \n",
    "    #plt.scatter(x5,y,color='red',linewidth=1.0) #where x=1,2,3...n for n number of tracks\n",
    "\n",
    "    plt.scatter(track_1,layer_coordinates) #circular\n",
    "    plt.scatter(track_2,layer_coordinates) #circular\n",
    "    plt.scatter(track_3,layer_coordinates) #circular\n",
    "    plt.scatter(track_4,layer_coordinates) #circular\n",
    "    #plt.scatter(track_5,layer_coordinates) #parabola\n",
    "    plt.scatter(track_6, layer_coordinates) #right circle\n",
    "\n",
    "    ### Overlay Tracks (optional)\n",
    "    #plt.plot(x1,y,color='gray',linewidth=1.0)\n",
    "    #plt.plot(x2,y,color='gray',linewidth=1.0)\n",
    "    #plt.plot(x3,y,color='gray',linewidth=1.0)\n",
    "    #plt.plot(x4,y,color='gray',linewidth=1.0)\n",
    "    ### Overlay Track ENDS \n",
    "\n",
    "    plt.xlabel('x-axis')\n",
    "    plt.ylabel('y-axis')\n",
    "\n",
    "    #print(x3[750],x3[1000])\n",
    "    #plt.show() # show the plot\n",
    "    \n",
    "def main():\n",
    "    create_detector()\n",
    "    create_tracks()\n",
    "    \n",
    "if __name__== \"__main__\":\n",
    "  main()\n"
   ]
  },
  {
   "cell_type": "code",
   "execution_count": null,
   "metadata": {},
   "outputs": [],
   "source": [
    "##############################################################################\n",
    "# Function: Cartesian to Cylindrical Transform\n",
    "##############################################################################\n",
    "\n",
    "r1, phi1 = [], []\n",
    "r2, phi2 = [], []\n",
    "r3, phi3 = [], []\n",
    "r4, phi4 = [], []\n",
    "r5, phi5 = [], []\n",
    "\n",
    "def cartesian_to_cylindrical_r(x, y):\n",
    "    r = np.sqrt(x**2 + y**2)\n",
    "    return r\n",
    "\n",
    "def cartesian_to_cylindrical_phi(x,y):\n",
    "    phi = np.arctan2(y, x)\n",
    "    return phi\n",
    "\n",
    "for n in range(5):\n",
    "    r1.append(cartesian_to_cylindrical_r(track_1[n],layer_coordinates[n]))\n",
    "    phi1.append(cartesian_to_cylindrical_phi(track_1[n],layer_coordinates[n]))\n",
    "    r2.append(cartesian_to_cylindrical_r(track_2[n],layer_coordinates[n]))\n",
    "    phi2.append(cartesian_to_cylindrical_phi(track_1[n],layer_coordinates[n]))\n",
    "    r3.append(cartesian_to_cylindrical_r(track_3[n],layer_coordinates[n]))\n",
    "    phi3.append(cartesian_to_cylindrical_phi(track_1[n],layer_coordinates[n]))\n",
    "    r4.append(cartesian_to_cylindrical_r(track_4[n],layer_coordinates[n]))\n",
    "    phi4.append(cartesian_to_cylindrical_phi(track_1[n],layer_coordinates[n]))\n",
    "    #r5.append(cartesian_to_cylindrical_r(track_5[n],layer_coordinates[n]))\n",
    "    #phi5.append(cartesian_to_cylindrical_phi(track_1[n],layer_coordinates[n]))\n",
    "\n",
    "#print(r1)\n",
    "#print(phi1)\n",
    "plt.subplot(122)\n",
    "plt.scatter(r1,phi1)\n",
    "plt.scatter(r2,phi2)\n",
    "plt.scatter(r3,phi3)\n",
    "plt.scatter(r4,phi4)\n",
    "#plt.plot(r1,phi1)\n",
    "plt.xlabel('R')\n",
    "plt.ylabel('Phi')\n",
    "plt.show()"
   ]
  },
  {
   "cell_type": "markdown",
   "metadata": {},
   "source": [
    "## Fixed Code for Quantum Hough + 4 Circular Tracks\n",
    "\n",
    "The following code implements the Quantum Hough Transform to reconstruct 4 circular tracks."
   ]
  },
  {
   "cell_type": "code",
   "execution_count": null,
   "metadata": {},
   "outputs": [],
   "source": []
  }
 ],
 "metadata": {
  "kernelspec": {
   "display_name": "Python 3",
   "language": "python",
   "name": "python3"
  },
  "language_info": {
   "codemirror_mode": {
    "name": "ipython",
    "version": 3
   },
   "file_extension": ".py",
   "mimetype": "text/x-python",
   "name": "python",
   "nbconvert_exporter": "python",
   "pygments_lexer": "ipython3",
   "version": "3.7.5"
  }
 },
 "nbformat": 4,
 "nbformat_minor": 2
}
