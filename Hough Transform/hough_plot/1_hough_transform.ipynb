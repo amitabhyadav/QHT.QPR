{
 "cells": [
  {
   "cell_type": "code",
   "execution_count": 7,
   "metadata": {},
   "outputs": [],
   "source": [
    "%matplotlib inline\n",
    "import matplotlib.pyplot as plt\n",
    "\n",
    "import pandas\n",
    "import numpy"
   ]
  },
  {
   "cell_type": "markdown",
   "metadata": {},
   "source": [
    "# Input data"
   ]
  },
  {
   "cell_type": "code",
   "execution_count": 8,
   "metadata": {},
   "outputs": [
    {
     "data": {
      "text/html": [
       "<div>\n",
       "<style scoped>\n",
       "    .dataframe tbody tr th:only-of-type {\n",
       "        vertical-align: middle;\n",
       "    }\n",
       "\n",
       "    .dataframe tbody tr th {\n",
       "        vertical-align: top;\n",
       "    }\n",
       "\n",
       "    .dataframe thead th {\n",
       "        text-align: right;\n",
       "    }\n",
       "</style>\n",
       "<table border=\"1\" class=\"dataframe\">\n",
       "  <thead>\n",
       "    <tr style=\"text-align: right;\">\n",
       "      <th></th>\n",
       "      <th>hit_id</th>\n",
       "      <th>x</th>\n",
       "      <th>y</th>\n",
       "      <th>z</th>\n",
       "      <th>volume_id</th>\n",
       "      <th>layer_id</th>\n",
       "      <th>module_id</th>\n",
       "    </tr>\n",
       "  </thead>\n",
       "  <tbody>\n",
       "    <tr>\n",
       "      <td>0</td>\n",
       "      <td>1</td>\n",
       "      <td>-57.1605</td>\n",
       "      <td>-5.576950</td>\n",
       "      <td>-1502.5</td>\n",
       "      <td>7</td>\n",
       "      <td>2</td>\n",
       "      <td>1</td>\n",
       "    </tr>\n",
       "    <tr>\n",
       "      <td>1</td>\n",
       "      <td>2</td>\n",
       "      <td>-63.8989</td>\n",
       "      <td>0.462975</td>\n",
       "      <td>-1502.5</td>\n",
       "      <td>7</td>\n",
       "      <td>2</td>\n",
       "      <td>1</td>\n",
       "    </tr>\n",
       "    <tr>\n",
       "      <td>2</td>\n",
       "      <td>3</td>\n",
       "      <td>-77.9384</td>\n",
       "      <td>-3.249990</td>\n",
       "      <td>-1502.5</td>\n",
       "      <td>7</td>\n",
       "      <td>2</td>\n",
       "      <td>1</td>\n",
       "    </tr>\n",
       "    <tr>\n",
       "      <td>3</td>\n",
       "      <td>4</td>\n",
       "      <td>-78.7789</td>\n",
       "      <td>-12.644900</td>\n",
       "      <td>-1502.5</td>\n",
       "      <td>7</td>\n",
       "      <td>2</td>\n",
       "      <td>1</td>\n",
       "    </tr>\n",
       "    <tr>\n",
       "      <td>4</td>\n",
       "      <td>5</td>\n",
       "      <td>-85.1803</td>\n",
       "      <td>-3.970410</td>\n",
       "      <td>-1502.5</td>\n",
       "      <td>7</td>\n",
       "      <td>2</td>\n",
       "      <td>1</td>\n",
       "    </tr>\n",
       "  </tbody>\n",
       "</table>\n",
       "</div>"
      ],
      "text/plain": [
       "   hit_id        x          y       z  volume_id  layer_id  module_id\n",
       "0       1 -57.1605  -5.576950 -1502.5          7         2          1\n",
       "1       2 -63.8989   0.462975 -1502.5          7         2          1\n",
       "2       3 -77.9384  -3.249990 -1502.5          7         2          1\n",
       "3       4 -78.7789 -12.644900 -1502.5          7         2          1\n",
       "4       5 -85.1803  -3.970410 -1502.5          7         2          1"
      ]
     },
     "execution_count": 8,
     "metadata": {},
     "output_type": "execute_result"
    }
   ],
   "source": [
    "data = pandas.read_csv('hits_1000.csv', index_col=False)\n",
    "#data = data[data.event.values < 100]\n",
    "\n",
    "data.head()"
   ]
  },
  {
   "cell_type": "markdown",
   "metadata": {},
   "source": [
    "# Hough Transform\n",
    "\n",
    "Consider a track pattern recognition method using the Hough Tramsform in polar system. In this system a circular track can be parametrized as follow:\n",
    "\n",
    "$$\n",
    "r = 2r_{0}Cos(\\phi - \\theta)\n",
    "$$\n",
    "\n",
    "where:\n",
    "* $r$ and $\\phi$ : are coordinates of a hit in the polar system.\n",
    "* $r_{0}$ and $\\theta$ : are coordinates of a center of a circular track in the polar system.\n",
    "\n",
    "A linear track corresponds to the $r_{0} = \\infty$.\n",
    "\n",
    "Transformation of cartesian coordinates of a hit to polar coordinates defined as:\n",
    "\n",
    "$$\n",
    "\\phi = arctan(\\frac{y}{x})\n",
    "$$\n",
    "$$\n",
    "r = \\sqrt{x^{2} + y^{2}}\n",
    "$$\n",
    "\n",
    "\n",
    "The Hough Transform converts a hit in $(r, \\phi)$ space to a curve in $(\\frac{1}{r_{0}}, \\theta)$ space of the track parameters as follow:\n",
    "\n",
    "$$\n",
    "\\frac{1}{r_{0}} = \\frac{2Cos(\\phi - \\theta)}{r}\n",
    "$$\n",
    "\n",
    "A linear track in this space represents as $(0, \\theta)$ point.\n",
    "\n",
    "This section demonstrates the track pattern recognition method using Hough Transfrom described above and histogramming technique. "
   ]
  },
  {
   "cell_type": "markdown",
   "metadata": {},
   "source": [
    "## One event"
   ]
  },
  {
   "cell_type": "code",
   "execution_count": 9,
   "metadata": {},
   "outputs": [
    {
     "ename": "AttributeError",
     "evalue": "'DataFrame' object has no attribute 'event'",
     "output_type": "error",
     "traceback": [
      "\u001b[0;31m---------------------------------------------------------------------------\u001b[0m",
      "\u001b[0;31mAttributeError\u001b[0m                            Traceback (most recent call last)",
      "\u001b[0;32m<ipython-input-9-0abcf4851033>\u001b[0m in \u001b[0;36m<module>\u001b[0;34m\u001b[0m\n\u001b[1;32m      1\u001b[0m \u001b[0mtoy_event_id\u001b[0m \u001b[0;34m=\u001b[0m \u001b[0;36m0\u001b[0m\u001b[0;34m\u001b[0m\u001b[0;34m\u001b[0m\u001b[0m\n\u001b[0;32m----> 2\u001b[0;31m \u001b[0mevent\u001b[0m \u001b[0;34m=\u001b[0m \u001b[0mdata\u001b[0m\u001b[0;34m[\u001b[0m\u001b[0mdata\u001b[0m\u001b[0;34m.\u001b[0m\u001b[0mevent\u001b[0m\u001b[0;34m.\u001b[0m\u001b[0mvalues\u001b[0m \u001b[0;34m==\u001b[0m \u001b[0mtoy_event_id\u001b[0m\u001b[0;34m]\u001b[0m\u001b[0;34m\u001b[0m\u001b[0;34m\u001b[0m\u001b[0m\n\u001b[0m",
      "\u001b[0;32m/opt/anaconda3/envs/qpr_qiskit/lib/python3.7/site-packages/pandas/core/generic.py\u001b[0m in \u001b[0;36m__getattr__\u001b[0;34m(self, name)\u001b[0m\n\u001b[1;32m   5177\u001b[0m             \u001b[0;32mif\u001b[0m \u001b[0mself\u001b[0m\u001b[0;34m.\u001b[0m\u001b[0m_info_axis\u001b[0m\u001b[0;34m.\u001b[0m\u001b[0m_can_hold_identifiers_and_holds_name\u001b[0m\u001b[0;34m(\u001b[0m\u001b[0mname\u001b[0m\u001b[0;34m)\u001b[0m\u001b[0;34m:\u001b[0m\u001b[0;34m\u001b[0m\u001b[0;34m\u001b[0m\u001b[0m\n\u001b[1;32m   5178\u001b[0m                 \u001b[0;32mreturn\u001b[0m \u001b[0mself\u001b[0m\u001b[0;34m[\u001b[0m\u001b[0mname\u001b[0m\u001b[0;34m]\u001b[0m\u001b[0;34m\u001b[0m\u001b[0;34m\u001b[0m\u001b[0m\n\u001b[0;32m-> 5179\u001b[0;31m             \u001b[0;32mreturn\u001b[0m \u001b[0mobject\u001b[0m\u001b[0;34m.\u001b[0m\u001b[0m__getattribute__\u001b[0m\u001b[0;34m(\u001b[0m\u001b[0mself\u001b[0m\u001b[0;34m,\u001b[0m \u001b[0mname\u001b[0m\u001b[0;34m)\u001b[0m\u001b[0;34m\u001b[0m\u001b[0;34m\u001b[0m\u001b[0m\n\u001b[0m\u001b[1;32m   5180\u001b[0m \u001b[0;34m\u001b[0m\u001b[0m\n\u001b[1;32m   5181\u001b[0m     \u001b[0;32mdef\u001b[0m \u001b[0m__setattr__\u001b[0m\u001b[0;34m(\u001b[0m\u001b[0mself\u001b[0m\u001b[0;34m,\u001b[0m \u001b[0mname\u001b[0m\u001b[0;34m,\u001b[0m \u001b[0mvalue\u001b[0m\u001b[0;34m)\u001b[0m\u001b[0;34m:\u001b[0m\u001b[0;34m\u001b[0m\u001b[0;34m\u001b[0m\u001b[0m\n",
      "\u001b[0;31mAttributeError\u001b[0m: 'DataFrame' object has no attribute 'event'"
     ]
    }
   ],
   "source": [
    "toy_event_id = 0\n",
    "event = data[data.event.values == toy_event_id]"
   ]
  },
  {
   "cell_type": "code",
   "execution_count": 10,
   "metadata": {},
   "outputs": [
    {
     "ename": "NameError",
     "evalue": "name 'event' is not defined",
     "output_type": "error",
     "traceback": [
      "\u001b[0;31m---------------------------------------------------------------------------\u001b[0m",
      "\u001b[0;31mNameError\u001b[0m                                 Traceback (most recent call last)",
      "\u001b[0;32m<ipython-input-10-8710a1f84c2b>\u001b[0m in \u001b[0;36m<module>\u001b[0;34m\u001b[0m\n\u001b[0;32m----> 1\u001b[0;31m \u001b[0mevent\u001b[0m\u001b[0;34m.\u001b[0m\u001b[0mcolumns\u001b[0m\u001b[0;34m\u001b[0m\u001b[0;34m\u001b[0m\u001b[0m\n\u001b[0m",
      "\u001b[0;31mNameError\u001b[0m: name 'event' is not defined"
     ]
    }
   ],
   "source": [
    "event.columns"
   ]
  },
  {
   "cell_type": "code",
   "execution_count": 11,
   "metadata": {},
   "outputs": [
    {
     "ename": "ModuleNotFoundError",
     "evalue": "No module named 'hough'",
     "output_type": "error",
     "traceback": [
      "\u001b[0;31m---------------------------------------------------------------------------\u001b[0m",
      "\u001b[0;31mModuleNotFoundError\u001b[0m                       Traceback (most recent call last)",
      "\u001b[0;32m<timed exec>\u001b[0m in \u001b[0;36m<module>\u001b[0;34m\u001b[0m\n",
      "\u001b[0;31mModuleNotFoundError\u001b[0m: No module named 'hough'"
     ]
    }
   ],
   "source": [
    "%%time\n",
    "\n",
    "from hough import Hough\n",
    "\n",
    "h = Hough(n_theta_bins=500, n_radius_bins=500, min_radius=20., min_hits=6)\n",
    "h.fit(event[['x', 'y']].values, event.particle.values)\n",
    "labels = h.predict(event[['x', 'y']].values)\n",
    "\n",
    "# Optional attributes\n",
    "matrix_hough = h.matrix_hough_\n",
    "track_inds = h.track_inds_\n",
    "track_params = h.track_params_"
   ]
  },
  {
   "cell_type": "code",
   "execution_count": 6,
   "metadata": {},
   "outputs": [
    {
     "data": {
      "image/png": "[encoded data removed]",
      "text/plain": [
       "<matplotlib.figure.Figure at 0x10c328d50>"
      ]
     },
     "metadata": {},
     "output_type": "display_data"
    }
   ],
   "source": [
    "plt.figure(figsize=(8,8))\n",
    "plt.scatter(event.x.values, event.y.values)\n",
    "\n",
    "for lab in numpy.unique(labels[labels != -1]):\n",
    "    \n",
    "    xs = event.x.values[labels == lab]\n",
    "    ys = event.y.values[labels == lab]\n",
    "    \n",
    "    sort_inds = xs.argsort()\n",
    "    \n",
    "    plt.plot(xs[sort_inds], ys[sort_inds])\n",
    "\n",
    "plt.title(\"Hits and Reconstructed Tracks\", size=15)\n",
    "plt.xlabel(\"x\", size=25)\n",
    "plt.ylabel(\"y\", size=25)\n",
    "plt.grid(b=1)\n",
    "plt.show()"
   ]
  },
  {
   "cell_type": "code",
   "execution_count": 7,
   "metadata": {},
   "outputs": [
    {
     "data": {
      "image/png": "[encoded data removed]",
      "text/plain": [
       "<matplotlib.figure.Figure at 0x10c388790>"
      ]
     },
     "metadata": {},
     "output_type": "display_data"
    }
   ],
   "source": [
    "plt.figure(figsize=(12,8))\n",
    "plt.imshow(matrix_hough.T, interpolation='none', origin='lower')\n",
    "plt.title(\"Hough Transform\", size=25)\n",
    "plt.xlabel(\"Theta, bin ids\", size=25)\n",
    "plt.ylabel(\"1 / r0, bin ids\", size=25)\n",
    "plt.colorbar()\n",
    "plt.show()"
   ]
  },
  {
   "cell_type": "code",
   "execution_count": 8,
   "metadata": {},
   "outputs": [
    {
     "name": "stdout",
     "output_type": "stream",
     "text": [
      "List of tracks. A track is a list of hit indexes. One hit can belong to several recognized tracks.\n"
     ]
    },
    {
     "data": {
      "text/plain": [
       "array([array([13, 19, 22, 28, 35, 48, 52]),\n",
       "       array([ 2,  5, 16, 36, 40, 49]),\n",
       "       array([23, 29, 30, 32, 43, 53, 54]),\n",
       "       array([17, 18, 23, 30, 33, 39, 45, 50]),\n",
       "       array([17, 18, 23, 29, 30, 33, 39, 50]),\n",
       "       array([ 0,  9, 14, 34, 38, 42]), array([ 1, 11, 12, 20, 24, 27]),\n",
       "       array([ 7,  8, 10, 37, 46, 57]), array([17, 23, 29, 30, 32, 54]),\n",
       "       array([17, 29, 32, 43, 53, 54])], dtype=object)"
      ]
     },
     "execution_count": 8,
     "metadata": {},
     "output_type": "execute_result"
    }
   ],
   "source": [
    "print \"List of tracks. A track is a list of hit indexes. One hit can belong to several recognized tracks.\"\n",
    "track_inds"
   ]
  },
  {
   "cell_type": "code",
   "execution_count": 9,
   "metadata": {},
   "outputs": [
    {
     "data": {
      "image/png": "[encoded data removed]",
      "text/plain": [
       "<matplotlib.figure.Figure at 0x10af37d10>"
      ]
     },
     "metadata": {},
     "output_type": "display_data"
    }
   ],
   "source": [
    "plt.figure(figsize=(8,8))\n",
    "plt.scatter(event.x.values, event.y.values)\n",
    "\n",
    "for track in track_inds:\n",
    "    \n",
    "    xs = event.x.values[track]\n",
    "    ys = event.y.values[track]\n",
    "    \n",
    "    sort_inds = xs.argsort()\n",
    "    \n",
    "    plt.plot(xs[sort_inds], ys[sort_inds])\n",
    "\n",
    "plt.title(\"Hits and Reconstructed Tracks\", size=15)\n",
    "plt.xlabel(\"x\", size=25)\n",
    "plt.ylabel(\"y\", size=25)\n",
    "plt.grid(b=1)\n",
    "plt.show()"
   ]
  },
  {
   "cell_type": "code",
   "execution_count": 10,
   "metadata": {},
   "outputs": [
    {
     "data": {
      "text/plain": [
       "array([[  4.02929719e-01,   1.00200401e-04],\n",
       "       [  2.27907122e+00,   1.00200401e-04],\n",
       "       [  2.92124046e+00,   1.00200401e-04],\n",
       "       [  2.99678979e+00,   2.00400802e-04],\n",
       "       [  3.00938134e+00,   3.00601202e-04],\n",
       "       [  3.28639552e+00,   1.00200401e-04],\n",
       "       [  4.21817050e+00,   8.01603206e-04],\n",
       "       [  5.60324141e+00,   1.00200401e-04],\n",
       "       [  6.03135423e+00,   1.00200401e-04],\n",
       "       [  6.04394579e+00,   1.00200401e-04]])"
      ]
     },
     "execution_count": 10,
     "metadata": {},
     "output_type": "execute_result"
    }
   ],
   "source": [
    "track_params"
   ]
  },
  {
   "cell_type": "markdown",
   "metadata": {
    "collapsed": true
   },
   "source": [
    "## Several events\n",
    "\n",
    "**TrackRecognizer** is used to recognize tracks in several events using a track pattern recognition method. The method should has the following structure:"
   ]
  },
  {
   "cell_type": "code",
   "execution_count": 11,
   "metadata": {
    "collapsed": true
   },
   "outputs": [],
   "source": [
    "class Method(object):\n",
    "    \n",
    "    def __init__(self, params):\n",
    "        \n",
    "        # You code\n",
    "        \n",
    "        pass\n",
    "    \n",
    "    def fit(X, y):\n",
    "        \"\"\"\n",
    "        Parameters\n",
    "        ----------\n",
    "        X : ndarray-like:\n",
    "            Coordinates of hits (x, y).\n",
    "        y : array-like\n",
    "            True hit labels.\n",
    "        \"\"\"\n",
    "        \n",
    "        # Your code\n",
    "        \n",
    "        pass\n",
    "    \n",
    "    def predict(self, X):\n",
    "        \"\"\"\n",
    "        Parameters\n",
    "        ----------\n",
    "        X : ndarray-like:\n",
    "            Coordinates of hits (x, y).\n",
    "            \n",
    "        Returns\n",
    "        -------\n",
    "        y : array-like\n",
    "            True hit labels.\n",
    "        \"\"\"\n",
    "        \n",
    "        # Your code\n",
    "        \n",
    "        return y"
   ]
  },
  {
   "cell_type": "code",
   "execution_count": 12,
   "metadata": {},
   "outputs": [
    {
     "data": {
      "text/html": [
       "<div>\n",
       "<table border=\"1\" class=\"dataframe\">\n",
       "  <thead>\n",
       "    <tr style=\"text-align: right;\">\n",
       "      <th></th>\n",
       "      <th>event</th>\n",
       "      <th>track</th>\n",
       "      <th>x</th>\n",
       "      <th>y</th>\n",
       "    </tr>\n",
       "  </thead>\n",
       "  <tbody>\n",
       "    <tr>\n",
       "      <th>0</th>\n",
       "      <td>0</td>\n",
       "      <td>2</td>\n",
       "      <td>55.103343</td>\n",
       "      <td>-401.233874</td>\n",
       "    </tr>\n",
       "    <tr>\n",
       "      <th>1</th>\n",
       "      <td>0</td>\n",
       "      <td>3</td>\n",
       "      <td>-381.682239</td>\n",
       "      <td>135.438799</td>\n",
       "    </tr>\n",
       "    <tr>\n",
       "      <th>2</th>\n",
       "      <td>0</td>\n",
       "      <td>5</td>\n",
       "      <td>160.995866</td>\n",
       "      <td>139.460859</td>\n",
       "    </tr>\n",
       "    <tr>\n",
       "      <th>3</th>\n",
       "      <td>0</td>\n",
       "      <td>0</td>\n",
       "      <td>-35.433651</td>\n",
       "      <td>-150.895515</td>\n",
       "    </tr>\n",
       "    <tr>\n",
       "      <th>4</th>\n",
       "      <td>0</td>\n",
       "      <td>-1</td>\n",
       "      <td>-19.627350</td>\n",
       "      <td>-82.702885</td>\n",
       "    </tr>\n",
       "  </tbody>\n",
       "</table>\n",
       "</div>"
      ],
      "text/plain": [
       "   event  track           x           y\n",
       "0      0      2   55.103343 -401.233874\n",
       "1      0      3 -381.682239  135.438799\n",
       "2      0      5  160.995866  139.460859\n",
       "3      0      0  -35.433651 -150.895515\n",
       "4      0     -1  -19.627350  -82.702885"
      ]
     },
     "execution_count": 12,
     "metadata": {},
     "output_type": "execute_result"
    }
   ],
   "source": [
    "from recognizer import TrackRecognizer\n",
    "\n",
    "method = Hough(n_theta_bins=5000, n_radius_bins=1000, min_radius=20., min_hits=4)\n",
    "\n",
    "tr = TrackRecognizer(method=method)\n",
    "results = tr.predict(data)\n",
    "\n",
    "results.head()"
   ]
  },
  {
   "cell_type": "markdown",
   "metadata": {},
   "source": [
    "## Quality metrics\n",
    "\n",
    "Track recognition quality metrics described below are based on hit matching technique.\n",
    "\n",
    "**Track Finding Efficiency** (or Track Efficiency) of a track is defined as:\n",
    "\n",
    "$$\n",
    "\\epsilon = \\frac{N_{reco\\_true\\_hits}}{N_{reco\\_hits}}\n",
    "$$\n",
    "\n",
    "where:\n",
    "* $N_{reco\\_true\\_hits}$ : is the number of recognized tru hits of the track.\n",
    "* $N_{reco\\_hits}$ : is the number of recognized hits of the track.\n",
    "\n",
    "The track is considered to be reconstructed if its efficiency is higher than threshold, for example, 80%.\n",
    "\n",
    "**Reconstruction Efficiency** of an event is defined as:\n",
    "\n",
    "$$\n",
    "\\epsilon = \\frac{N_{reco\\_tracks}}{N_{tracks}}\n",
    "$$\n",
    "\n",
    "where:\n",
    "* $N_{reco\\_tracks}$ : is number of recognized tracks (without clones) of the event.\n",
    "* $N_{tracks}$ : is total number of tracks in the event.\n",
    "\n",
    "**Ghost Rate** is defined as:\n",
    "\n",
    "$$\n",
    "\\epsilon = \\frac{N_{ghost\\_tracks}}{N_{tracks}}\n",
    "$$\n",
    "\n",
    "where:\n",
    "* $N_{ghost\\_tracks}$ : is number of ghost tracks which do not reconstruct any true particle.\n",
    "* $N_{tracks}$ : is total number of tracks in the event.\n",
    "\n",
    "\n",
    "A track recognition method can recognize track of a particle multiple times. Such redundant reconstructions are called clones.\n",
    "\n",
    "**Clone Rate** is defined as:\n",
    "\n",
    "$$\n",
    "\\epsilon = \\frac{\\sum_{m} N_{m\\_track}^{clones}}{N_{tracks}}\n",
    "$$\n",
    "\n",
    "where:\n",
    "* $N_{m\\_track}^{clones}$ : is number of redundant reconstructions of the m-th track.\n",
    "* $N_{tracks}$ : is total number of tracks in the event."
   ]
  },
  {
   "cell_type": "code",
   "execution_count": 13,
   "metadata": {},
   "outputs": [],
   "source": [
    "from metrics import RecognitionQuality\n",
    "\n",
    "rq = RecognitionQuality(data, results, track_eff_threshold=0.8, min_hits_per_track=4)\n",
    "report_event, report_tracks = rq.calculate()"
   ]
  },
  {
   "cell_type": "code",
   "execution_count": 14,
   "metadata": {},
   "outputs": [
    {
     "data": {
      "text/html": [
       "<div>\n",
       "<table border=\"1\" class=\"dataframe\">\n",
       "  <thead>\n",
       "    <tr style=\"text-align: right;\">\n",
       "      <th></th>\n",
       "      <th>Event</th>\n",
       "      <th>ReconstructionEfficiency</th>\n",
       "      <th>GhostRate</th>\n",
       "      <th>CloneRate</th>\n",
       "      <th>AvgTrackEfficiency</th>\n",
       "    </tr>\n",
       "  </thead>\n",
       "  <tbody>\n",
       "    <tr>\n",
       "      <th>0</th>\n",
       "      <td>0</td>\n",
       "      <td>1.000000</td>\n",
       "      <td>0.000000</td>\n",
       "      <td>0</td>\n",
       "      <td>0.982143</td>\n",
       "    </tr>\n",
       "    <tr>\n",
       "      <th>1</th>\n",
       "      <td>1</td>\n",
       "      <td>0.750000</td>\n",
       "      <td>0.166667</td>\n",
       "      <td>0</td>\n",
       "      <td>0.931818</td>\n",
       "    </tr>\n",
       "    <tr>\n",
       "      <th>2</th>\n",
       "      <td>2</td>\n",
       "      <td>0.800000</td>\n",
       "      <td>0.000000</td>\n",
       "      <td>0</td>\n",
       "      <td>1.000000</td>\n",
       "    </tr>\n",
       "    <tr>\n",
       "      <th>3</th>\n",
       "      <td>3</td>\n",
       "      <td>0.777778</td>\n",
       "      <td>0.111111</td>\n",
       "      <td>0</td>\n",
       "      <td>0.968750</td>\n",
       "    </tr>\n",
       "    <tr>\n",
       "      <th>4</th>\n",
       "      <td>4</td>\n",
       "      <td>0.875000</td>\n",
       "      <td>0.125000</td>\n",
       "      <td>0</td>\n",
       "      <td>0.972222</td>\n",
       "    </tr>\n",
       "  </tbody>\n",
       "</table>\n",
       "</div>"
      ],
      "text/plain": [
       "   Event  ReconstructionEfficiency  GhostRate  CloneRate  AvgTrackEfficiency\n",
       "0      0                  1.000000   0.000000          0            0.982143\n",
       "1      1                  0.750000   0.166667          0            0.931818\n",
       "2      2                  0.800000   0.000000          0            1.000000\n",
       "3      3                  0.777778   0.111111          0            0.968750\n",
       "4      4                  0.875000   0.125000          0            0.972222"
      ]
     },
     "execution_count": 14,
     "metadata": {},
     "output_type": "execute_result"
    }
   ],
   "source": [
    "report_event.head()"
   ]
  },
  {
   "cell_type": "code",
   "execution_count": 15,
   "metadata": {},
   "outputs": [
    {
     "data": {
      "text/plain": [
       "Event                       499.500000\n",
       "ReconstructionEfficiency      0.920124\n",
       "GhostRate                     0.036922\n",
       "CloneRate                     0.000000\n",
       "AvgTrackEfficiency            0.976903\n",
       "dtype: float64"
      ]
     },
     "execution_count": 15,
     "metadata": {},
     "output_type": "execute_result"
    }
   ],
   "source": [
    "report_event.mean(axis=0)"
   ]
  },
  {
   "cell_type": "code",
   "execution_count": 16,
   "metadata": {},
   "outputs": [
    {
     "data": {
      "text/html": [
       "<div>\n",
       "<table border=\"1\" class=\"dataframe\">\n",
       "  <thead>\n",
       "    <tr style=\"text-align: right;\">\n",
       "      <th></th>\n",
       "      <th>Event</th>\n",
       "      <th>Track</th>\n",
       "      <th>TrackEfficiency</th>\n",
       "    </tr>\n",
       "  </thead>\n",
       "  <tbody>\n",
       "    <tr>\n",
       "      <th>0</th>\n",
       "      <td>0</td>\n",
       "      <td>0</td>\n",
       "      <td>0.875</td>\n",
       "    </tr>\n",
       "    <tr>\n",
       "      <th>1</th>\n",
       "      <td>0</td>\n",
       "      <td>1</td>\n",
       "      <td>1.000</td>\n",
       "    </tr>\n",
       "    <tr>\n",
       "      <th>2</th>\n",
       "      <td>0</td>\n",
       "      <td>2</td>\n",
       "      <td>1.000</td>\n",
       "    </tr>\n",
       "    <tr>\n",
       "      <th>3</th>\n",
       "      <td>0</td>\n",
       "      <td>3</td>\n",
       "      <td>1.000</td>\n",
       "    </tr>\n",
       "    <tr>\n",
       "      <th>4</th>\n",
       "      <td>0</td>\n",
       "      <td>4</td>\n",
       "      <td>1.000</td>\n",
       "    </tr>\n",
       "  </tbody>\n",
       "</table>\n",
       "</div>"
      ],
      "text/plain": [
       "   Event  Track  TrackEfficiency\n",
       "0      0      0            0.875\n",
       "1      0      1            1.000\n",
       "2      0      2            1.000\n",
       "3      0      3            1.000\n",
       "4      0      4            1.000"
      ]
     },
     "execution_count": 16,
     "metadata": {},
     "output_type": "execute_result"
    }
   ],
   "source": [
    "report_tracks.head()"
   ]
  },
  {
   "cell_type": "code",
   "execution_count": null,
   "metadata": {
    "collapsed": true
   },
   "outputs": [],
   "source": []
  }
 ],
 "metadata": {
  "kernelspec": {
   "display_name": "Python 3",
   "language": "python",
   "name": "python3"
  },
  "language_info": {
   "codemirror_mode": {
    "name": "ipython",
    "version": 3
   },
   "file_extension": ".py",
   "mimetype": "text/x-python",
   "name": "python",
   "nbconvert_exporter": "python",
   "pygments_lexer": "ipython3",
   "version": "3.7.5"
  }
 },
 "nbformat": 4,
 "nbformat_minor": 1
}
